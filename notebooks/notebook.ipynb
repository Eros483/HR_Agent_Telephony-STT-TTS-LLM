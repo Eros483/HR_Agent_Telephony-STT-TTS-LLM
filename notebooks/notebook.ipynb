{
 "cells": [
  {
   "cell_type": "markdown",
   "id": "ce974d22",
   "metadata": {},
   "source": [
    "### Configuring STT and testing"
   ]
  },
  {
   "cell_type": "code",
   "execution_count": 1,
   "id": "d319e0f7",
   "metadata": {},
   "outputs": [],
   "source": [
    "import httpx\n",
    "import logging\n",
    "from deepgram.utils import verboselogs\n",
    "import threading\n",
    "\n",
    "from deepgram import (\n",
    "    DeepgramClient,\n",
    "    DeepgramClientOptions,\n",
    "    LiveTranscriptionEvents,\n",
    "    LiveOptions,\n",
    ")"
   ]
  },
  {
   "cell_type": "code",
   "execution_count": 2,
   "id": "a57e496b",
   "metadata": {},
   "outputs": [],
   "source": [
    "URL = \"http://stream.live.vc.bbcmedia.co.uk/bbc_world_service\""
   ]
  },
  {
   "cell_type": "code",
   "execution_count": null,
   "id": "dcaa7a10",
   "metadata": {},
   "outputs": [],
   "source": [
    "deepgram: DeepgramClient=DeepgramClient()\n",
    "\n",
    "dg_connection=deepgram.listen.websocket.v(\"1\")\n",
    "\n",
    "def on_message(result, **kwargs):\n",
    "    sentence=result.channel.alternatives[0].transcript\n",
    "    if len(sentence) == 0:\n",
    "        return\n",
    "    print(f\"speaker: {sentence}\")\n",
    "\n",
    "    "
   ]
  },
  {
   "cell_type": "markdown",
   "id": "34cb7dd1",
   "metadata": {},
   "source": [
    "### Configuring LLM trials"
   ]
  },
  {
   "cell_type": "markdown",
   "id": "a36f88ca",
   "metadata": {},
   "source": [
    "To run server\n",
    "\n",
    "vllm serve sreenington/Phi-3-mini-4k-instruct-AWQ     --quantization awq     --trust-remote-code     --gpu-memory-utilization 0.8"
   ]
  },
  {
   "cell_type": "code",
   "execution_count": 1,
   "id": "7c3c5219",
   "metadata": {},
   "outputs": [],
   "source": [
    "import openai\n",
    "from src.core.config import settings\n",
    "from utils.custom_exception import CustomException"
   ]
  },
  {
   "cell_type": "code",
   "execution_count": 2,
   "id": "a5a2956c",
   "metadata": {},
   "outputs": [],
   "source": [
    "llm_client=openai.OpenAI(\n",
    "    base_url=settings.VLLM_API_BASE,\n",
    "    api_key=\"not needed\"\n",
    ")"
   ]
  },
  {
   "cell_type": "code",
   "execution_count": 6,
   "id": "7b96ed60",
   "metadata": {},
   "outputs": [],
   "source": [
    "def get_llm_response(messages: list):\n",
    "    \"\"\"\n",
    "    Get response from the LLM using the provided messages.\n",
    "    \"\"\"\n",
    "    try:\n",
    "        response = llm_client.chat.completions.create(\n",
    "            model=settings.LLM_MODEL_NAME,\n",
    "            messages=messages\n",
    "        )\n",
    "        return response.choices[0].message.content if response.choices else None\n",
    "    \n",
    "    except Exception as e:\n",
    "        raise CustomException(\"failed to generate llm response\", e)"
   ]
  },
  {
   "cell_type": "code",
   "execution_count": 7,
   "id": "c15f45c6",
   "metadata": {},
   "outputs": [],
   "source": [
    "sample_messages = [\n",
    "    {\"role\": \"system\", \"content\": \"You are a helpful assistant that provides concise answers.\"},\n",
    "    {\"role\": \"user\", \"content\": \"What is the primary purpose of a CPU in a computer?\"}\n",
    "]"
   ]
  },
  {
   "cell_type": "code",
   "execution_count": 8,
   "id": "872604cc",
   "metadata": {},
   "outputs": [],
   "source": [
    "response=get_llm_response(sample_messages)\n"
   ]
  },
  {
   "cell_type": "code",
   "execution_count": 9,
   "id": "01a1699d",
   "metadata": {},
   "outputs": [
    {
     "name": "stdout",
     "output_type": "stream",
     "text": [
      "The primary purpose of a CPU (Central Processing Unit) in a computer is to perform basic arithmetic, logic, and control operations. Essentially, it acts as the \"brain\" of the computer, interpreting and executing most of the instructions from the computer's hardware and software.\n",
      "\n",
      "Here are the key roles a CPU performs in a computer system:\n",
      "\n",
      "1. Process instructions: The CPU executes commands and processes data from software programs, computer operating systems, and input/output devices.\n",
      "\n",
      "2. Arithmetic and logic operations: Perform basic mathematical calculations and logical decisions using ALU (Arithmetic Logic Unit).\n",
      "\n",
      "3. Control Unit (CU): Coordinates the activities of all the components within the computer. It receives instructions from the memory, decodes and organizes the data, and triggers the appropriate system operation.\n",
      "\n",
      "4. Clock: The CPU uses a clock to maintain a consistent pace among its various functional units, ensuring all operations take place at appropriate times.\n",
      "\n",
      "5. Cache memory: CPUs include small, high-speed caches to store frequently accessed data for faster retrieval.\n",
      "\n",
      "By efficiently carrying out these roles, the CPU ensures the proper functioning of the computer system, allowing users to perform various tasks and access digital content.\n"
     ]
    }
   ],
   "source": [
    "print(response)"
   ]
  }
 ],
 "metadata": {
  "kernelspec": {
   "display_name": "hr",
   "language": "python",
   "name": "python3"
  },
  "language_info": {
   "codemirror_mode": {
    "name": "ipython",
    "version": 3
   },
   "file_extension": ".py",
   "mimetype": "text/x-python",
   "name": "python",
   "nbconvert_exporter": "python",
   "pygments_lexer": "ipython3",
   "version": "3.12.11"
  }
 },
 "nbformat": 4,
 "nbformat_minor": 5
}
