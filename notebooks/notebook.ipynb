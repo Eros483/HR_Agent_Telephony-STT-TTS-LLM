{
 "cells": [
  {
   "cell_type": "markdown",
   "id": "079e5d0b",
   "metadata": {},
   "source": [
    "### Configuring telephony"
   ]
  },
  {
   "cell_type": "code",
   "execution_count": 2,
   "id": "0dfa8cde",
   "metadata": {},
   "outputs": [
    {
     "ename": "TwilioRestException",
     "evalue": "HTTP 400 error: Unable to create record: The request body violates the API contract",
     "output_type": "error",
     "traceback": [
      "\u001b[31m---------------------------------------------------------------------------\u001b[39m",
      "\u001b[31mTwilioRestException\u001b[39m                       Traceback (most recent call last)",
      "\u001b[36mCell\u001b[39m\u001b[36m \u001b[39m\u001b[32mIn[2]\u001b[39m\u001b[32m, line 10\u001b[39m\n\u001b[32m      7\u001b[39m auth_token = os.environ[\u001b[33m\"\u001b[39m\u001b[33mTWILIO_API_KEY_SECRET\u001b[39m\u001b[33m\"\u001b[39m]\n\u001b[32m      8\u001b[39m client = Client(account_sid, auth_token)\n\u001b[32m---> \u001b[39m\u001b[32m10\u001b[39m new_key = \u001b[43mclient\u001b[49m\u001b[43m.\u001b[49m\u001b[43mnew_keys\u001b[49m\u001b[43m.\u001b[49m\u001b[43mcreate\u001b[49m\u001b[43m(\u001b[49m\u001b[43mfriendly_name\u001b[49m\u001b[43m=\u001b[49m\u001b[33;43m\"\u001b[39;49m\u001b[33;43mMario\u001b[39;49m\u001b[33;43m'\u001b[39;49m\u001b[33;43ms API key\u001b[39;49m\u001b[33;43m\"\u001b[39;49m\u001b[43m)\u001b[49m\n\u001b[32m     12\u001b[39m \u001b[38;5;28mprint\u001b[39m(new_key.sid)\n",
      "\u001b[36mFile \u001b[39m\u001b[32m~/miniconda3/envs/hr/lib/python3.12/site-packages/twilio/rest/api/v2010/account/new_key.py:100\u001b[39m, in \u001b[36mNewKeyList.create\u001b[39m\u001b[34m(self, friendly_name)\u001b[39m\n\u001b[32m     96\u001b[39m headers[\u001b[33m\"\u001b[39m\u001b[33mContent-Type\u001b[39m\u001b[33m\"\u001b[39m] = \u001b[33m\"\u001b[39m\u001b[33mapplication/x-www-form-urlencoded\u001b[39m\u001b[33m\"\u001b[39m\n\u001b[32m     98\u001b[39m headers[\u001b[33m\"\u001b[39m\u001b[33mAccept\u001b[39m\u001b[33m\"\u001b[39m] = \u001b[33m\"\u001b[39m\u001b[33mapplication/json\u001b[39m\u001b[33m\"\u001b[39m\n\u001b[32m--> \u001b[39m\u001b[32m100\u001b[39m payload = \u001b[38;5;28;43mself\u001b[39;49m\u001b[43m.\u001b[49m\u001b[43m_version\u001b[49m\u001b[43m.\u001b[49m\u001b[43mcreate\u001b[49m\u001b[43m(\u001b[49m\n\u001b[32m    101\u001b[39m \u001b[43m    \u001b[49m\u001b[43mmethod\u001b[49m\u001b[43m=\u001b[49m\u001b[33;43m\"\u001b[39;49m\u001b[33;43mPOST\u001b[39;49m\u001b[33;43m\"\u001b[39;49m\u001b[43m,\u001b[49m\u001b[43m \u001b[49m\u001b[43muri\u001b[49m\u001b[43m=\u001b[49m\u001b[38;5;28;43mself\u001b[39;49m\u001b[43m.\u001b[49m\u001b[43m_uri\u001b[49m\u001b[43m,\u001b[49m\u001b[43m \u001b[49m\u001b[43mdata\u001b[49m\u001b[43m=\u001b[49m\u001b[43mdata\u001b[49m\u001b[43m,\u001b[49m\u001b[43m \u001b[49m\u001b[43mheaders\u001b[49m\u001b[43m=\u001b[49m\u001b[43mheaders\u001b[49m\n\u001b[32m    102\u001b[39m \u001b[43m\u001b[49m\u001b[43m)\u001b[49m\n\u001b[32m    104\u001b[39m \u001b[38;5;28;01mreturn\u001b[39;00m NewKeyInstance(\n\u001b[32m    105\u001b[39m     \u001b[38;5;28mself\u001b[39m._version, payload, account_sid=\u001b[38;5;28mself\u001b[39m._solution[\u001b[33m\"\u001b[39m\u001b[33maccount_sid\u001b[39m\u001b[33m\"\u001b[39m]\n\u001b[32m    106\u001b[39m )\n",
      "\u001b[36mFile \u001b[39m\u001b[32m~/miniconda3/envs/hr/lib/python3.12/site-packages/twilio/base/version.py:463\u001b[39m, in \u001b[36mVersion.create\u001b[39m\u001b[34m(self, method, uri, params, data, headers, auth, timeout, allow_redirects)\u001b[39m\n\u001b[32m    450\u001b[39m \u001b[38;5;250m\u001b[39m\u001b[33;03m\"\"\"\u001b[39;00m\n\u001b[32m    451\u001b[39m \u001b[33;03mCreate a resource instance.\u001b[39;00m\n\u001b[32m    452\u001b[39m \u001b[33;03m\"\"\"\u001b[39;00m\n\u001b[32m    453\u001b[39m response = \u001b[38;5;28mself\u001b[39m.request(\n\u001b[32m    454\u001b[39m     method,\n\u001b[32m    455\u001b[39m     uri,\n\u001b[32m   (...)\u001b[39m\u001b[32m    461\u001b[39m     allow_redirects=allow_redirects,\n\u001b[32m    462\u001b[39m )\n\u001b[32m--> \u001b[39m\u001b[32m463\u001b[39m \u001b[38;5;28;01mreturn\u001b[39;00m \u001b[38;5;28;43mself\u001b[39;49m\u001b[43m.\u001b[49m\u001b[43m_parse_create\u001b[49m\u001b[43m(\u001b[49m\u001b[43mmethod\u001b[49m\u001b[43m,\u001b[49m\u001b[43m \u001b[49m\u001b[43muri\u001b[49m\u001b[43m,\u001b[49m\u001b[43m \u001b[49m\u001b[43mresponse\u001b[49m\u001b[43m)\u001b[49m\n",
      "\u001b[36mFile \u001b[39m\u001b[32m~/miniconda3/envs/hr/lib/python3.12/site-packages/twilio/base/version.py:435\u001b[39m, in \u001b[36mVersion._parse_create\u001b[39m\u001b[34m(self, method, uri, response)\u001b[39m\n\u001b[32m    431\u001b[39m \u001b[38;5;250m\u001b[39m\u001b[33;03m\"\"\"\u001b[39;00m\n\u001b[32m    432\u001b[39m \u001b[33;03mParse create response JSON\u001b[39;00m\n\u001b[32m    433\u001b[39m \u001b[33;03m\"\"\"\u001b[39;00m\n\u001b[32m    434\u001b[39m \u001b[38;5;28;01mif\u001b[39;00m response.status_code < \u001b[32m200\u001b[39m \u001b[38;5;129;01mor\u001b[39;00m response.status_code >= \u001b[32m300\u001b[39m:\n\u001b[32m--> \u001b[39m\u001b[32m435\u001b[39m     \u001b[38;5;28;01mraise\u001b[39;00m \u001b[38;5;28mself\u001b[39m.exception(method, uri, response, \u001b[33m\"\u001b[39m\u001b[33mUnable to create record\u001b[39m\u001b[33m\"\u001b[39m)\n\u001b[32m    437\u001b[39m \u001b[38;5;28;01mreturn\u001b[39;00m json.loads(response.text)\n",
      "\u001b[31mTwilioRestException\u001b[39m: HTTP 400 error: Unable to create record: The request body violates the API contract"
     ]
    }
   ],
   "source": [
    "import os\n",
    "from twilio.rest import Client\n",
    "\n",
    "# Find your Account SID and Auth Token at twilio.com/console\n",
    "# and set the environment variables. See http://twil.io/secure\n",
    "account_sid = os.environ[\"TWILIO_API_KEY_SID\"]\n",
    "auth_token = os.environ[\"TWILIO_API_KEY_SECRET\"]\n",
    "client = Client(account_sid, auth_token)\n",
    "\n",
    "new_key = client.new_keys.create(friendly_name=\"Mario's API key\")\n",
    "\n",
    "print(new_key.sid)"
   ]
  },
  {
   "cell_type": "markdown",
   "id": "ce974d22",
   "metadata": {},
   "source": [
    "### Configuring STT and testing"
   ]
  },
  {
   "cell_type": "code",
   "execution_count": 1,
   "id": "d319e0f7",
   "metadata": {},
   "outputs": [],
   "source": [
    "import httpx\n",
    "import logging\n",
    "from deepgram.utils import verboselogs\n",
    "import threading\n",
    "\n",
    "from deepgram import (\n",
    "    DeepgramClient,\n",
    "    DeepgramClientOptions,\n",
    "    LiveTranscriptionEvents,\n",
    "    LiveOptions,\n",
    ")"
   ]
  },
  {
   "cell_type": "code",
   "execution_count": 2,
   "id": "a57e496b",
   "metadata": {},
   "outputs": [],
   "source": [
    "URL = \"http://stream.live.vc.bbcmedia.co.uk/bbc_world_service\""
   ]
  },
  {
   "cell_type": "code",
   "execution_count": null,
   "id": "dcaa7a10",
   "metadata": {},
   "outputs": [],
   "source": [
    "deepgram: DeepgramClient=DeepgramClient()\n",
    "\n",
    "dg_connection=deepgram.listen.websocket.v(\"1\")\n",
    "\n",
    "def on_message(result, **kwargs):\n",
    "    sentence=result.channel.alternatives[0].transcript\n",
    "    if len(sentence) == 0:\n",
    "        return\n",
    "    print(f\"speaker: {sentence}\")\n",
    "\n",
    "    "
   ]
  },
  {
   "cell_type": "markdown",
   "id": "34cb7dd1",
   "metadata": {},
   "source": [
    "### Configuring LLM trials"
   ]
  },
  {
   "cell_type": "markdown",
   "id": "a36f88ca",
   "metadata": {},
   "source": [
    "To run server\n",
    "\n",
    "vllm serve sreenington/Phi-3-mini-4k-instruct-AWQ     --quantization awq     --trust-remote-code     --gpu-memory-utilization 0.8"
   ]
  },
  {
   "cell_type": "code",
   "execution_count": 1,
   "id": "7c3c5219",
   "metadata": {},
   "outputs": [],
   "source": [
    "import openai\n",
    "from src.core.config import settings\n",
    "from utils.custom_exception import CustomException"
   ]
  },
  {
   "cell_type": "code",
   "execution_count": 2,
   "id": "a5a2956c",
   "metadata": {},
   "outputs": [],
   "source": [
    "llm_client=openai.OpenAI(\n",
    "    base_url=settings.VLLM_API_BASE,\n",
    "    api_key=\"not needed\"\n",
    ")"
   ]
  },
  {
   "cell_type": "code",
   "execution_count": 6,
   "id": "7b96ed60",
   "metadata": {},
   "outputs": [],
   "source": [
    "def get_llm_response(messages: list):\n",
    "    \"\"\"\n",
    "    Get response from the LLM using the provided messages.\n",
    "    \"\"\"\n",
    "    try:\n",
    "        response = llm_client.chat.completions.create(\n",
    "            model=settings.LLM_MODEL_NAME,\n",
    "            messages=messages\n",
    "        )\n",
    "        return response.choices[0].message.content if response.choices else None\n",
    "    \n",
    "    except Exception as e:\n",
    "        raise CustomException(\"failed to generate llm response\", e)"
   ]
  },
  {
   "cell_type": "code",
   "execution_count": 7,
   "id": "c15f45c6",
   "metadata": {},
   "outputs": [],
   "source": [
    "sample_messages = [\n",
    "    {\"role\": \"system\", \"content\": \"You are a helpful assistant that provides concise answers.\"},\n",
    "    {\"role\": \"user\", \"content\": \"What is the primary purpose of a CPU in a computer?\"}\n",
    "]"
   ]
  },
  {
   "cell_type": "code",
   "execution_count": 8,
   "id": "872604cc",
   "metadata": {},
   "outputs": [],
   "source": [
    "response=get_llm_response(sample_messages)\n"
   ]
  },
  {
   "cell_type": "code",
   "execution_count": 9,
   "id": "01a1699d",
   "metadata": {},
   "outputs": [
    {
     "name": "stdout",
     "output_type": "stream",
     "text": [
      "The primary purpose of a CPU (Central Processing Unit) in a computer is to perform basic arithmetic, logic, and control operations. Essentially, it acts as the \"brain\" of the computer, interpreting and executing most of the instructions from the computer's hardware and software.\n",
      "\n",
      "Here are the key roles a CPU performs in a computer system:\n",
      "\n",
      "1. Process instructions: The CPU executes commands and processes data from software programs, computer operating systems, and input/output devices.\n",
      "\n",
      "2. Arithmetic and logic operations: Perform basic mathematical calculations and logical decisions using ALU (Arithmetic Logic Unit).\n",
      "\n",
      "3. Control Unit (CU): Coordinates the activities of all the components within the computer. It receives instructions from the memory, decodes and organizes the data, and triggers the appropriate system operation.\n",
      "\n",
      "4. Clock: The CPU uses a clock to maintain a consistent pace among its various functional units, ensuring all operations take place at appropriate times.\n",
      "\n",
      "5. Cache memory: CPUs include small, high-speed caches to store frequently accessed data for faster retrieval.\n",
      "\n",
      "By efficiently carrying out these roles, the CPU ensures the proper functioning of the computer system, allowing users to perform various tasks and access digital content.\n"
     ]
    }
   ],
   "source": [
    "print(response)"
   ]
  }
 ],
 "metadata": {
  "kernelspec": {
   "display_name": "hr",
   "language": "python",
   "name": "python3"
  },
  "language_info": {
   "codemirror_mode": {
    "name": "ipython",
    "version": 3
   },
   "file_extension": ".py",
   "mimetype": "text/x-python",
   "name": "python",
   "nbconvert_exporter": "python",
   "pygments_lexer": "ipython3",
   "version": "3.12.11"
  }
 },
 "nbformat": 4,
 "nbformat_minor": 5
}
